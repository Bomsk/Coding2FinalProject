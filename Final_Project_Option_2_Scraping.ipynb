{
  "nbformat": 4,
  "nbformat_minor": 0,
  "metadata": {
    "colab": {
      "provenance": [],
      "authorship_tag": "ABX9TyN6cqgFqfescYTHwAs8i7le",
      "include_colab_link": true
    },
    "kernelspec": {
      "name": "python3",
      "display_name": "Python 3"
    },
    "language_info": {
      "name": "python"
    }
  },
  "cells": [
    {
      "cell_type": "markdown",
      "metadata": {
        "id": "view-in-github",
        "colab_type": "text"
      },
      "source": [
        "<a href=\"https://colab.research.google.com/github/Bomsk/Coding2FinalProject/blob/main/Final_Project_Option_2_Scraping.ipynb\" target=\"_parent\"><img src=\"https://colab.research.google.com/assets/colab-badge.svg\" alt=\"Open In Colab\"/></a>"
      ]
    },
    {
      "cell_type": "markdown",
      "source": [
        "# Importing libraries"
      ],
      "metadata": {
        "id": "Ev0hnOn7qJZR"
      }
    },
    {
      "cell_type": "code",
      "execution_count": null,
      "metadata": {
        "id": "1mx_28PKvX60"
      },
      "outputs": [],
      "source": [
        "!pip install scrapethat"
      ]
    },
    {
      "cell_type": "code",
      "source": [
        "!pip install plotly"
      ],
      "metadata": {
        "id": "RGJ_NY-jUA9u"
      },
      "execution_count": null,
      "outputs": []
    },
    {
      "cell_type": "code",
      "source": [
        "from scrapethat import *\n",
        "import json\n",
        "import pandas as pd\n",
        "import plotly.express as px"
      ],
      "metadata": {
        "id": "jEDnuu08x99F"
      },
      "execution_count": null,
      "outputs": []
    },
    {
      "cell_type": "markdown",
      "source": [
        "# Step 1: getting the links"
      ],
      "metadata": {
        "id": "YnQ4s0tt1eiH"
      }
    },
    {
      "cell_type": "code",
      "source": [
        "# API Website: https://pokeapi.co/\n",
        "df = fromjson('https://pokeapi.co/api/v2/pokemon?limit=100000&offset=0')"
      ],
      "metadata": {
        "id": "jvgBbwIKyA1U"
      },
      "execution_count": null,
      "outputs": []
    },
    {
      "cell_type": "code",
      "source": [
        "# exploring the df\n",
        "df"
      ],
      "metadata": {
        "id": "84u5jQV7yuzj"
      },
      "execution_count": null,
      "outputs": []
    },
    {
      "cell_type": "code",
      "source": [
        "# list of dictionary\n",
        "df['results']"
      ],
      "metadata": {
        "id": "eY2uju5gyv-t"
      },
      "execution_count": null,
      "outputs": []
    },
    {
      "cell_type": "code",
      "source": [
        "# making a DataFrame\n",
        "link_df = pd.DataFrame(df['results'])\n",
        "\n",
        "link_df"
      ],
      "metadata": {
        "colab": {
          "base_uri": "https://localhost:8080/",
          "height": 424
        },
        "id": "uDUb_RDqzTOc",
        "outputId": "55bc4bfe-df6e-4b91-aca7-71e9f13f9858"
      },
      "execution_count": null,
      "outputs": [
        {
          "output_type": "execute_result",
          "data": {
            "text/plain": [
              "                          name                                       url\n",
              "0                    bulbasaur      https://pokeapi.co/api/v2/pokemon/1/\n",
              "1                      ivysaur      https://pokeapi.co/api/v2/pokemon/2/\n",
              "2                     venusaur      https://pokeapi.co/api/v2/pokemon/3/\n",
              "3                   charmander      https://pokeapi.co/api/v2/pokemon/4/\n",
              "4                   charmeleon      https://pokeapi.co/api/v2/pokemon/5/\n",
              "...                        ...                                       ...\n",
              "1297   ogerpon-wellspring-mask  https://pokeapi.co/api/v2/pokemon/10273/\n",
              "1298  ogerpon-hearthflame-mask  https://pokeapi.co/api/v2/pokemon/10274/\n",
              "1299  ogerpon-cornerstone-mask  https://pokeapi.co/api/v2/pokemon/10275/\n",
              "1300        terapagos-terastal  https://pokeapi.co/api/v2/pokemon/10276/\n",
              "1301         terapagos-stellar  https://pokeapi.co/api/v2/pokemon/10277/\n",
              "\n",
              "[1302 rows x 2 columns]"
            ],
            "text/html": [
              "\n",
              "  <div id=\"df-be262b88-fc81-49dd-b13e-0199f7fd4d7c\" class=\"colab-df-container\">\n",
              "    <div>\n",
              "<style scoped>\n",
              "    .dataframe tbody tr th:only-of-type {\n",
              "        vertical-align: middle;\n",
              "    }\n",
              "\n",
              "    .dataframe tbody tr th {\n",
              "        vertical-align: top;\n",
              "    }\n",
              "\n",
              "    .dataframe thead th {\n",
              "        text-align: right;\n",
              "    }\n",
              "</style>\n",
              "<table border=\"1\" class=\"dataframe\">\n",
              "  <thead>\n",
              "    <tr style=\"text-align: right;\">\n",
              "      <th></th>\n",
              "      <th>name</th>\n",
              "      <th>url</th>\n",
              "    </tr>\n",
              "  </thead>\n",
              "  <tbody>\n",
              "    <tr>\n",
              "      <th>0</th>\n",
              "      <td>bulbasaur</td>\n",
              "      <td>https://pokeapi.co/api/v2/pokemon/1/</td>\n",
              "    </tr>\n",
              "    <tr>\n",
              "      <th>1</th>\n",
              "      <td>ivysaur</td>\n",
              "      <td>https://pokeapi.co/api/v2/pokemon/2/</td>\n",
              "    </tr>\n",
              "    <tr>\n",
              "      <th>2</th>\n",
              "      <td>venusaur</td>\n",
              "      <td>https://pokeapi.co/api/v2/pokemon/3/</td>\n",
              "    </tr>\n",
              "    <tr>\n",
              "      <th>3</th>\n",
              "      <td>charmander</td>\n",
              "      <td>https://pokeapi.co/api/v2/pokemon/4/</td>\n",
              "    </tr>\n",
              "    <tr>\n",
              "      <th>4</th>\n",
              "      <td>charmeleon</td>\n",
              "      <td>https://pokeapi.co/api/v2/pokemon/5/</td>\n",
              "    </tr>\n",
              "    <tr>\n",
              "      <th>...</th>\n",
              "      <td>...</td>\n",
              "      <td>...</td>\n",
              "    </tr>\n",
              "    <tr>\n",
              "      <th>1297</th>\n",
              "      <td>ogerpon-wellspring-mask</td>\n",
              "      <td>https://pokeapi.co/api/v2/pokemon/10273/</td>\n",
              "    </tr>\n",
              "    <tr>\n",
              "      <th>1298</th>\n",
              "      <td>ogerpon-hearthflame-mask</td>\n",
              "      <td>https://pokeapi.co/api/v2/pokemon/10274/</td>\n",
              "    </tr>\n",
              "    <tr>\n",
              "      <th>1299</th>\n",
              "      <td>ogerpon-cornerstone-mask</td>\n",
              "      <td>https://pokeapi.co/api/v2/pokemon/10275/</td>\n",
              "    </tr>\n",
              "    <tr>\n",
              "      <th>1300</th>\n",
              "      <td>terapagos-terastal</td>\n",
              "      <td>https://pokeapi.co/api/v2/pokemon/10276/</td>\n",
              "    </tr>\n",
              "    <tr>\n",
              "      <th>1301</th>\n",
              "      <td>terapagos-stellar</td>\n",
              "      <td>https://pokeapi.co/api/v2/pokemon/10277/</td>\n",
              "    </tr>\n",
              "  </tbody>\n",
              "</table>\n",
              "<p>1302 rows × 2 columns</p>\n",
              "</div>\n",
              "    <div class=\"colab-df-buttons\">\n",
              "\n",
              "  <div class=\"colab-df-container\">\n",
              "    <button class=\"colab-df-convert\" onclick=\"convertToInteractive('df-be262b88-fc81-49dd-b13e-0199f7fd4d7c')\"\n",
              "            title=\"Convert this dataframe to an interactive table.\"\n",
              "            style=\"display:none;\">\n",
              "\n",
              "  <svg xmlns=\"http://www.w3.org/2000/svg\" height=\"24px\" viewBox=\"0 -960 960 960\">\n",
              "    <path d=\"M120-120v-720h720v720H120Zm60-500h600v-160H180v160Zm220 220h160v-160H400v160Zm0 220h160v-160H400v160ZM180-400h160v-160H180v160Zm440 0h160v-160H620v160ZM180-180h160v-160H180v160Zm440 0h160v-160H620v160Z\"/>\n",
              "  </svg>\n",
              "    </button>\n",
              "\n",
              "  <style>\n",
              "    .colab-df-container {\n",
              "      display:flex;\n",
              "      gap: 12px;\n",
              "    }\n",
              "\n",
              "    .colab-df-convert {\n",
              "      background-color: #E8F0FE;\n",
              "      border: none;\n",
              "      border-radius: 50%;\n",
              "      cursor: pointer;\n",
              "      display: none;\n",
              "      fill: #1967D2;\n",
              "      height: 32px;\n",
              "      padding: 0 0 0 0;\n",
              "      width: 32px;\n",
              "    }\n",
              "\n",
              "    .colab-df-convert:hover {\n",
              "      background-color: #E2EBFA;\n",
              "      box-shadow: 0px 1px 2px rgba(60, 64, 67, 0.3), 0px 1px 3px 1px rgba(60, 64, 67, 0.15);\n",
              "      fill: #174EA6;\n",
              "    }\n",
              "\n",
              "    .colab-df-buttons div {\n",
              "      margin-bottom: 4px;\n",
              "    }\n",
              "\n",
              "    [theme=dark] .colab-df-convert {\n",
              "      background-color: #3B4455;\n",
              "      fill: #D2E3FC;\n",
              "    }\n",
              "\n",
              "    [theme=dark] .colab-df-convert:hover {\n",
              "      background-color: #434B5C;\n",
              "      box-shadow: 0px 1px 3px 1px rgba(0, 0, 0, 0.15);\n",
              "      filter: drop-shadow(0px 1px 2px rgba(0, 0, 0, 0.3));\n",
              "      fill: #FFFFFF;\n",
              "    }\n",
              "  </style>\n",
              "\n",
              "    <script>\n",
              "      const buttonEl =\n",
              "        document.querySelector('#df-be262b88-fc81-49dd-b13e-0199f7fd4d7c button.colab-df-convert');\n",
              "      buttonEl.style.display =\n",
              "        google.colab.kernel.accessAllowed ? 'block' : 'none';\n",
              "\n",
              "      async function convertToInteractive(key) {\n",
              "        const element = document.querySelector('#df-be262b88-fc81-49dd-b13e-0199f7fd4d7c');\n",
              "        const dataTable =\n",
              "          await google.colab.kernel.invokeFunction('convertToInteractive',\n",
              "                                                    [key], {});\n",
              "        if (!dataTable) return;\n",
              "\n",
              "        const docLinkHtml = 'Like what you see? Visit the ' +\n",
              "          '<a target=\"_blank\" href=https://colab.research.google.com/notebooks/data_table.ipynb>data table notebook</a>'\n",
              "          + ' to learn more about interactive tables.';\n",
              "        element.innerHTML = '';\n",
              "        dataTable['output_type'] = 'display_data';\n",
              "        await google.colab.output.renderOutput(dataTable, element);\n",
              "        const docLink = document.createElement('div');\n",
              "        docLink.innerHTML = docLinkHtml;\n",
              "        element.appendChild(docLink);\n",
              "      }\n",
              "    </script>\n",
              "  </div>\n",
              "\n",
              "\n",
              "<div id=\"df-ab921096-55b1-4308-99ca-725fe1b02850\">\n",
              "  <button class=\"colab-df-quickchart\" onclick=\"quickchart('df-ab921096-55b1-4308-99ca-725fe1b02850')\"\n",
              "            title=\"Suggest charts\"\n",
              "            style=\"display:none;\">\n",
              "\n",
              "<svg xmlns=\"http://www.w3.org/2000/svg\" height=\"24px\"viewBox=\"0 0 24 24\"\n",
              "     width=\"24px\">\n",
              "    <g>\n",
              "        <path d=\"M19 3H5c-1.1 0-2 .9-2 2v14c0 1.1.9 2 2 2h14c1.1 0 2-.9 2-2V5c0-1.1-.9-2-2-2zM9 17H7v-7h2v7zm4 0h-2V7h2v10zm4 0h-2v-4h2v4z\"/>\n",
              "    </g>\n",
              "</svg>\n",
              "  </button>\n",
              "\n",
              "<style>\n",
              "  .colab-df-quickchart {\n",
              "      --bg-color: #E8F0FE;\n",
              "      --fill-color: #1967D2;\n",
              "      --hover-bg-color: #E2EBFA;\n",
              "      --hover-fill-color: #174EA6;\n",
              "      --disabled-fill-color: #AAA;\n",
              "      --disabled-bg-color: #DDD;\n",
              "  }\n",
              "\n",
              "  [theme=dark] .colab-df-quickchart {\n",
              "      --bg-color: #3B4455;\n",
              "      --fill-color: #D2E3FC;\n",
              "      --hover-bg-color: #434B5C;\n",
              "      --hover-fill-color: #FFFFFF;\n",
              "      --disabled-bg-color: #3B4455;\n",
              "      --disabled-fill-color: #666;\n",
              "  }\n",
              "\n",
              "  .colab-df-quickchart {\n",
              "    background-color: var(--bg-color);\n",
              "    border: none;\n",
              "    border-radius: 50%;\n",
              "    cursor: pointer;\n",
              "    display: none;\n",
              "    fill: var(--fill-color);\n",
              "    height: 32px;\n",
              "    padding: 0;\n",
              "    width: 32px;\n",
              "  }\n",
              "\n",
              "  .colab-df-quickchart:hover {\n",
              "    background-color: var(--hover-bg-color);\n",
              "    box-shadow: 0 1px 2px rgba(60, 64, 67, 0.3), 0 1px 3px 1px rgba(60, 64, 67, 0.15);\n",
              "    fill: var(--button-hover-fill-color);\n",
              "  }\n",
              "\n",
              "  .colab-df-quickchart-complete:disabled,\n",
              "  .colab-df-quickchart-complete:disabled:hover {\n",
              "    background-color: var(--disabled-bg-color);\n",
              "    fill: var(--disabled-fill-color);\n",
              "    box-shadow: none;\n",
              "  }\n",
              "\n",
              "  .colab-df-spinner {\n",
              "    border: 2px solid var(--fill-color);\n",
              "    border-color: transparent;\n",
              "    border-bottom-color: var(--fill-color);\n",
              "    animation:\n",
              "      spin 1s steps(1) infinite;\n",
              "  }\n",
              "\n",
              "  @keyframes spin {\n",
              "    0% {\n",
              "      border-color: transparent;\n",
              "      border-bottom-color: var(--fill-color);\n",
              "      border-left-color: var(--fill-color);\n",
              "    }\n",
              "    20% {\n",
              "      border-color: transparent;\n",
              "      border-left-color: var(--fill-color);\n",
              "      border-top-color: var(--fill-color);\n",
              "    }\n",
              "    30% {\n",
              "      border-color: transparent;\n",
              "      border-left-color: var(--fill-color);\n",
              "      border-top-color: var(--fill-color);\n",
              "      border-right-color: var(--fill-color);\n",
              "    }\n",
              "    40% {\n",
              "      border-color: transparent;\n",
              "      border-right-color: var(--fill-color);\n",
              "      border-top-color: var(--fill-color);\n",
              "    }\n",
              "    60% {\n",
              "      border-color: transparent;\n",
              "      border-right-color: var(--fill-color);\n",
              "    }\n",
              "    80% {\n",
              "      border-color: transparent;\n",
              "      border-right-color: var(--fill-color);\n",
              "      border-bottom-color: var(--fill-color);\n",
              "    }\n",
              "    90% {\n",
              "      border-color: transparent;\n",
              "      border-bottom-color: var(--fill-color);\n",
              "    }\n",
              "  }\n",
              "</style>\n",
              "\n",
              "  <script>\n",
              "    async function quickchart(key) {\n",
              "      const quickchartButtonEl =\n",
              "        document.querySelector('#' + key + ' button');\n",
              "      quickchartButtonEl.disabled = true;  // To prevent multiple clicks.\n",
              "      quickchartButtonEl.classList.add('colab-df-spinner');\n",
              "      try {\n",
              "        const charts = await google.colab.kernel.invokeFunction(\n",
              "            'suggestCharts', [key], {});\n",
              "      } catch (error) {\n",
              "        console.error('Error during call to suggestCharts:', error);\n",
              "      }\n",
              "      quickchartButtonEl.classList.remove('colab-df-spinner');\n",
              "      quickchartButtonEl.classList.add('colab-df-quickchart-complete');\n",
              "    }\n",
              "    (() => {\n",
              "      let quickchartButtonEl =\n",
              "        document.querySelector('#df-ab921096-55b1-4308-99ca-725fe1b02850 button');\n",
              "      quickchartButtonEl.style.display =\n",
              "        google.colab.kernel.accessAllowed ? 'block' : 'none';\n",
              "    })();\n",
              "  </script>\n",
              "</div>\n",
              "    </div>\n",
              "  </div>\n"
            ]
          },
          "metadata": {},
          "execution_count": 7
        }
      ]
    },
    {
      "cell_type": "code",
      "source": [
        "# converting a list of Pokemon URLs into a DataFrame\n",
        "link_df = pd.DataFrame(df['results'])\n",
        "\n",
        "# this is the list that we are going to call in the function later on\n",
        "link_df['url']"
      ],
      "metadata": {
        "id": "NEm7Emw8zriZ",
        "colab": {
          "base_uri": "https://localhost:8080/"
        },
        "outputId": "d7b190fa-9b3d-4136-8c02-c4202e43d525"
      },
      "execution_count": null,
      "outputs": [
        {
          "output_type": "execute_result",
          "data": {
            "text/plain": [
              "0           https://pokeapi.co/api/v2/pokemon/1/\n",
              "1           https://pokeapi.co/api/v2/pokemon/2/\n",
              "2           https://pokeapi.co/api/v2/pokemon/3/\n",
              "3           https://pokeapi.co/api/v2/pokemon/4/\n",
              "4           https://pokeapi.co/api/v2/pokemon/5/\n",
              "                          ...                   \n",
              "1297    https://pokeapi.co/api/v2/pokemon/10273/\n",
              "1298    https://pokeapi.co/api/v2/pokemon/10274/\n",
              "1299    https://pokeapi.co/api/v2/pokemon/10275/\n",
              "1300    https://pokeapi.co/api/v2/pokemon/10276/\n",
              "1301    https://pokeapi.co/api/v2/pokemon/10277/\n",
              "Name: url, Length: 1302, dtype: object"
            ]
          },
          "metadata": {},
          "execution_count": 8
        }
      ]
    },
    {
      "cell_type": "markdown",
      "source": [
        "# Step 2: processing one pokemon data"
      ],
      "metadata": {
        "id": "GsYwNQFH1oMj"
      }
    },
    {
      "cell_type": "code",
      "source": [
        "url = 'https://pokeapi.co/api/v2/pokemon/1/'\n",
        "\n",
        "data = fromjson(url)\n",
        "\n",
        "data"
      ],
      "metadata": {
        "id": "g7R2siIB9gjR"
      },
      "execution_count": null,
      "outputs": []
    },
    {
      "cell_type": "markdown",
      "source": [
        "## Figuring out the JSON for one pokemon data"
      ],
      "metadata": {
        "id": "FjdQKWubI5GW"
      }
    },
    {
      "cell_type": "code",
      "source": [
        "data['stats']"
      ],
      "metadata": {
        "colab": {
          "base_uri": "https://localhost:8080/"
        },
        "id": "AGsJs3TiXIZM",
        "outputId": "d3a0fa35-79c1-4cef-8a9e-48fd98dfe2bb"
      },
      "execution_count": null,
      "outputs": [
        {
          "output_type": "execute_result",
          "data": {
            "text/plain": [
              "[{'base_stat': 45,\n",
              "  'effort': 0,\n",
              "  'stat': {'name': 'hp', 'url': 'https://pokeapi.co/api/v2/stat/1/'}},\n",
              " {'base_stat': 49,\n",
              "  'effort': 0,\n",
              "  'stat': {'name': 'attack', 'url': 'https://pokeapi.co/api/v2/stat/2/'}},\n",
              " {'base_stat': 49,\n",
              "  'effort': 0,\n",
              "  'stat': {'name': 'defense', 'url': 'https://pokeapi.co/api/v2/stat/3/'}},\n",
              " {'base_stat': 65,\n",
              "  'effort': 1,\n",
              "  'stat': {'name': 'special-attack',\n",
              "   'url': 'https://pokeapi.co/api/v2/stat/4/'}},\n",
              " {'base_stat': 65,\n",
              "  'effort': 0,\n",
              "  'stat': {'name': 'special-defense',\n",
              "   'url': 'https://pokeapi.co/api/v2/stat/5/'}},\n",
              " {'base_stat': 45,\n",
              "  'effort': 0,\n",
              "  'stat': {'name': 'speed', 'url': 'https://pokeapi.co/api/v2/stat/6/'}}]"
            ]
          },
          "metadata": {},
          "execution_count": 10
        }
      ]
    },
    {
      "cell_type": "code",
      "source": [
        "data['stats'][0]['base_stat']"
      ],
      "metadata": {
        "colab": {
          "base_uri": "https://localhost:8080/"
        },
        "id": "Ef7w80LiH-EC",
        "outputId": "6cc46197-38fb-4dae-8eaa-13159489a0c6"
      },
      "execution_count": null,
      "outputs": [
        {
          "output_type": "execute_result",
          "data": {
            "text/plain": [
              "45"
            ]
          },
          "metadata": {},
          "execution_count": 11
        }
      ]
    },
    {
      "cell_type": "code",
      "source": [
        "data['stats'][0]['stat']['name']"
      ],
      "metadata": {
        "colab": {
          "base_uri": "https://localhost:8080/",
          "height": 35
        },
        "id": "dL_2mn10IPqp",
        "outputId": "b485669c-4a4e-4ce0-969a-3e95bfe883e3"
      },
      "execution_count": null,
      "outputs": [
        {
          "output_type": "execute_result",
          "data": {
            "text/plain": [
              "'hp'"
            ],
            "application/vnd.google.colaboratory.intrinsic+json": {
              "type": "string"
            }
          },
          "metadata": {},
          "execution_count": 12
        }
      ]
    },
    {
      "cell_type": "code",
      "source": [
        "# prints each Pokémon stat name and its base value\n",
        "for i in data['stats']:\n",
        "  print(i)\n",
        "  stat_name = i['stat']['name']\n",
        "  stat_value = i['base_stat']"
      ],
      "metadata": {
        "colab": {
          "base_uri": "https://localhost:8080/"
        },
        "id": "IxAv3apNhbLf",
        "outputId": "323a8776-f66f-4897-8a18-2f5fc8fee4a7"
      },
      "execution_count": null,
      "outputs": [
        {
          "output_type": "stream",
          "name": "stdout",
          "text": [
            "{'base_stat': 45, 'effort': 0, 'stat': {'name': 'hp', 'url': 'https://pokeapi.co/api/v2/stat/1/'}}\n",
            "{'base_stat': 49, 'effort': 0, 'stat': {'name': 'attack', 'url': 'https://pokeapi.co/api/v2/stat/2/'}}\n",
            "{'base_stat': 49, 'effort': 0, 'stat': {'name': 'defense', 'url': 'https://pokeapi.co/api/v2/stat/3/'}}\n",
            "{'base_stat': 65, 'effort': 1, 'stat': {'name': 'special-attack', 'url': 'https://pokeapi.co/api/v2/stat/4/'}}\n",
            "{'base_stat': 65, 'effort': 0, 'stat': {'name': 'special-defense', 'url': 'https://pokeapi.co/api/v2/stat/5/'}}\n",
            "{'base_stat': 45, 'effort': 0, 'stat': {'name': 'speed', 'url': 'https://pokeapi.co/api/v2/stat/6/'}}\n"
          ]
        }
      ]
    },
    {
      "cell_type": "code",
      "source": [
        "# populates a dictionary with the Pokémon's basic info and base stats\n",
        "pokemon_data = {}\n",
        "\n",
        "pokemon_data['name'] = data['name']\n",
        "pokemon_data['weight'] = data['weight']\n",
        "pokemon_data['height'] = data['height']\n",
        "\n",
        "for i in data['stats']:\n",
        "  stat_name = i['stat']['name']\n",
        "  stat_value = i['base_stat']\n",
        "  pokemon_data[stat_name] = stat_value\n",
        "\n",
        "pokemon_data"
      ],
      "metadata": {
        "colab": {
          "base_uri": "https://localhost:8080/"
        },
        "id": "0jiegxgOi4pD",
        "outputId": "1fd1f49c-e41c-4035-8425-5175394f3edf"
      },
      "execution_count": null,
      "outputs": [
        {
          "output_type": "execute_result",
          "data": {
            "text/plain": [
              "{'name': 'bulbasaur',\n",
              " 'weight': 69,\n",
              " 'height': 7,\n",
              " 'hp': 45,\n",
              " 'attack': 49,\n",
              " 'defense': 49,\n",
              " 'special-attack': 65,\n",
              " 'special-defense': 65,\n",
              " 'speed': 45}"
            ]
          },
          "metadata": {},
          "execution_count": 14
        }
      ]
    },
    {
      "cell_type": "markdown",
      "source": [
        "## Checking out 'moves'"
      ],
      "metadata": {
        "id": "zPV4slhhmaPC"
      }
    },
    {
      "cell_type": "code",
      "source": [
        "data['moves']"
      ],
      "metadata": {
        "id": "CLYZmzSbIZXJ"
      },
      "execution_count": null,
      "outputs": []
    },
    {
      "cell_type": "code",
      "source": [
        "# checking out the 'zero' element for moves\n",
        "data['moves'][0]"
      ],
      "metadata": {
        "colab": {
          "base_uri": "https://localhost:8080/"
        },
        "id": "82dKWaLnktMI",
        "outputId": "3a9cc805-83c9-4b8e-c49f-187a32084b61"
      },
      "execution_count": null,
      "outputs": [
        {
          "output_type": "execute_result",
          "data": {
            "text/plain": [
              "{'move': {'name': 'razor-wind', 'url': 'https://pokeapi.co/api/v2/move/13/'},\n",
              " 'version_group_details': [{'level_learned_at': 0,\n",
              "   'move_learn_method': {'name': 'egg',\n",
              "    'url': 'https://pokeapi.co/api/v2/move-learn-method/2/'},\n",
              "   'version_group': {'name': 'gold-silver',\n",
              "    'url': 'https://pokeapi.co/api/v2/version-group/3/'}},\n",
              "  {'level_learned_at': 0,\n",
              "   'move_learn_method': {'name': 'egg',\n",
              "    'url': 'https://pokeapi.co/api/v2/move-learn-method/2/'},\n",
              "   'version_group': {'name': 'crystal',\n",
              "    'url': 'https://pokeapi.co/api/v2/version-group/4/'}}]}"
            ]
          },
          "metadata": {},
          "execution_count": 16
        }
      ]
    },
    {
      "cell_type": "code",
      "source": [
        "# doing a list comprehension for moves\n",
        "[x['move']['name'] for x in data['moves']]"
      ],
      "metadata": {
        "id": "5Lmzb_NGkaiY"
      },
      "execution_count": null,
      "outputs": []
    },
    {
      "cell_type": "code",
      "source": [
        "# adding the strings together with comma and space\n",
        "', '.join([x['move']['name'] for x in data['moves']])"
      ],
      "metadata": {
        "colab": {
          "base_uri": "https://localhost:8080/",
          "height": 214
        },
        "id": "kV1EDOT_liC4",
        "outputId": "c9bac91f-ba6f-43d1-b4e7-59023f1b2e26"
      },
      "execution_count": null,
      "outputs": [
        {
          "output_type": "execute_result",
          "data": {
            "text/plain": [
              "'razor-wind, swords-dance, cut, bind, vine-whip, headbutt, tackle, body-slam, take-down, double-edge, growl, strength, mega-drain, leech-seed, growth, razor-leaf, solar-beam, poison-powder, sleep-powder, petal-dance, string-shot, toxic, rage, mimic, double-team, defense-curl, light-screen, reflect, bide, sludge, skull-bash, amnesia, flash, rest, substitute, snore, curse, protect, sludge-bomb, mud-slap, outrage, giga-drain, endure, charm, false-swipe, swagger, fury-cutter, attract, sleep-talk, return, frustration, safeguard, sweet-scent, synthesis, hidden-power, sunny-day, rock-smash, facade, nature-power, helping-hand, ingrain, knock-off, secret-power, weather-ball, grass-whistle, bullet-seed, magical-leaf, natural-gift, worry-seed, seed-bomb, energy-ball, leaf-storm, power-whip, captivate, grass-knot, venoshock, round, echoed-voice, grass-pledge, work-up, grassy-terrain, confide, grassy-glide'"
            ],
            "application/vnd.google.colaboratory.intrinsic+json": {
              "type": "string"
            }
          },
          "metadata": {},
          "execution_count": 18
        }
      ]
    },
    {
      "cell_type": "code",
      "source": [
        "# adding species, moves, types, abilities\n",
        "pokemon_data = {}\n",
        "\n",
        "pokemon_data['name'] = data['name']\n",
        "pokemon_data['weight'] = data['weight']\n",
        "pokemon_data['height'] = data['height']\n",
        "pokemon_data['species'] = data['species']['name']\n",
        "pokemon_data['moves'] = ', '.join([x['move']['name'] for x in data['moves']])\n",
        "pokemon_data['types'] = ', '.join([x['type']['name'] for x in data['types']])\n",
        "pokemon_data['abilities'] = ', '.join([x['ability']['name'] for x in data['abilities']])\n",
        "\n",
        "for i in data['stats']:\n",
        "  stat_name = i['stat']['name']\n",
        "  stat_value = i['base_stat']\n",
        "  pokemon_data[stat_name] = stat_value\n",
        "\n",
        "pokemon_data"
      ],
      "metadata": {
        "colab": {
          "base_uri": "https://localhost:8080/"
        },
        "id": "ktp1WzK1joQQ",
        "outputId": "c9378e81-4933-4804-94d1-140a0ad270de"
      },
      "execution_count": null,
      "outputs": [
        {
          "output_type": "execute_result",
          "data": {
            "text/plain": [
              "{'name': 'bulbasaur',\n",
              " 'weight': 69,\n",
              " 'height': 7,\n",
              " 'species': 'bulbasaur',\n",
              " 'moves': 'razor-wind, swords-dance, cut, bind, vine-whip, headbutt, tackle, body-slam, take-down, double-edge, growl, strength, mega-drain, leech-seed, growth, razor-leaf, solar-beam, poison-powder, sleep-powder, petal-dance, string-shot, toxic, rage, mimic, double-team, defense-curl, light-screen, reflect, bide, sludge, skull-bash, amnesia, flash, rest, substitute, snore, curse, protect, sludge-bomb, mud-slap, outrage, giga-drain, endure, charm, false-swipe, swagger, fury-cutter, attract, sleep-talk, return, frustration, safeguard, sweet-scent, synthesis, hidden-power, sunny-day, rock-smash, facade, nature-power, helping-hand, ingrain, knock-off, secret-power, weather-ball, grass-whistle, bullet-seed, magical-leaf, natural-gift, worry-seed, seed-bomb, energy-ball, leaf-storm, power-whip, captivate, grass-knot, venoshock, round, echoed-voice, grass-pledge, work-up, grassy-terrain, confide, grassy-glide',\n",
              " 'types': 'grass, poison',\n",
              " 'abilities': 'overgrow, chlorophyll',\n",
              " 'hp': 45,\n",
              " 'attack': 49,\n",
              " 'defense': 49,\n",
              " 'special-attack': 65,\n",
              " 'special-defense': 65,\n",
              " 'speed': 45}"
            ]
          },
          "metadata": {},
          "execution_count": 19
        }
      ]
    },
    {
      "cell_type": "markdown",
      "source": [
        "# Step 3: Writing the function (with error handling)"
      ],
      "metadata": {
        "id": "keOqjc916Rzo"
      }
    },
    {
      "cell_type": "code",
      "source": [
        "def get_one_pokemon(url):\n",
        "    try:\n",
        "        data = fromjson(url)\n",
        "\n",
        "        pokemon_data = {}\n",
        "\n",
        "        pokemon_data['name'] = data['name']\n",
        "        pokemon_data['weight'] = data['weight']\n",
        "        pokemon_data['height'] = data['height']\n",
        "        pokemon_data['species'] = data['species']['name']\n",
        "        pokemon_data['moves'] = ', '.join([x['move']['name'] for x in data['moves']])\n",
        "        pokemon_data['types'] = ', '.join([x['type']['name'] for x in data['types']])\n",
        "        pokemon_data['abilities'] = ', '.join([x['ability']['name'] for x in data['abilities']])\n",
        "\n",
        "        for i in data['stats']:\n",
        "            stat_name = i['stat']['name']\n",
        "            stat_value = i['base_stat']\n",
        "            pokemon_data[stat_name] = stat_value\n",
        "\n",
        "        return pokemon_data\n",
        "\n",
        "    except KeyError as e:\n",
        "        print(f\"Data error: {e} not found in the data.\")\n",
        "\n",
        "        return None\n",
        "\n",
        "    except Exception as e:\n",
        "        print(f\"An unexpected error occurred: {e}\")\n",
        "\n",
        "        return None"
      ],
      "metadata": {
        "id": "wWjdaxYEl91R"
      },
      "execution_count": null,
      "outputs": []
    },
    {
      "cell_type": "code",
      "source": [
        "# testing the function with the second element\n",
        "get_one_pokemon(link_df['url'][1])"
      ],
      "metadata": {
        "colab": {
          "base_uri": "https://localhost:8080/"
        },
        "id": "GbnftMdq7Vxw",
        "outputId": "fcf68669-7a84-4e9a-8ca9-452f5185e8d2"
      },
      "execution_count": null,
      "outputs": [
        {
          "output_type": "execute_result",
          "data": {
            "text/plain": [
              "{'name': 'ivysaur',\n",
              " 'weight': 130,\n",
              " 'height': 10,\n",
              " 'species': 'ivysaur',\n",
              " 'moves': 'swords-dance, cut, bind, vine-whip, headbutt, tackle, body-slam, take-down, double-edge, growl, strength, mega-drain, leech-seed, growth, razor-leaf, solar-beam, poison-powder, sleep-powder, string-shot, toxic, rage, mimic, double-team, defense-curl, light-screen, reflect, bide, amnesia, flash, rest, substitute, snore, curse, protect, sludge-bomb, mud-slap, outrage, giga-drain, endure, charm, false-swipe, swagger, fury-cutter, attract, sleep-talk, return, frustration, safeguard, sweet-scent, synthesis, hidden-power, sunny-day, rock-smash, facade, nature-power, helping-hand, knock-off, secret-power, weather-ball, bullet-seed, magical-leaf, natural-gift, worry-seed, seed-bomb, energy-ball, leaf-storm, power-whip, captivate, grass-knot, venoshock, round, echoed-voice, grass-pledge, work-up, grassy-terrain, confide, grassy-glide',\n",
              " 'types': 'grass, poison',\n",
              " 'abilities': 'overgrow, chlorophyll',\n",
              " 'hp': 60,\n",
              " 'attack': 62,\n",
              " 'defense': 63,\n",
              " 'special-attack': 80,\n",
              " 'special-defense': 80,\n",
              " 'speed': 60}"
            ]
          },
          "metadata": {},
          "execution_count": 21
        }
      ]
    },
    {
      "cell_type": "markdown",
      "source": [
        "## Writing a map function for all Pokemons"
      ],
      "metadata": {
        "id": "PHT5vjJ07t7U"
      }
    },
    {
      "cell_type": "code",
      "source": [
        "list_of_dict = list(map(get_one_pokemon, link_df['url'][1:1292]))\n",
        "\n",
        "list_of_dict"
      ],
      "metadata": {
        "id": "mHm0Je517ykc"
      },
      "execution_count": null,
      "outputs": []
    },
    {
      "cell_type": "code",
      "source": [
        "# making a DataFrame\n",
        "pokemondf = pd.DataFrame(list_of_dict)\n",
        "\n",
        "pokemondf"
      ],
      "metadata": {
        "id": "1dZ1oTbZ9wOP",
        "colab": {
          "base_uri": "https://localhost:8080/",
          "height": 1000
        },
        "outputId": "52352584-f38c-467e-cfb0-f36d902406af"
      },
      "execution_count": null,
      "outputs": [
        {
          "output_type": "execute_result",
          "data": {
            "text/plain": [
              "                          name  weight  height     species  \\\n",
              "0                      ivysaur     130      10     ivysaur   \n",
              "1                     venusaur    1000      20    venusaur   \n",
              "2                   charmander      85       6  charmander   \n",
              "3                   charmeleon     190      11  charmeleon   \n",
              "4                    charizard     905      17   charizard   \n",
              "...                        ...     ...     ...         ...   \n",
              "1286        gimmighoul-roaming      10       1  gimmighoul   \n",
              "1287    koraidon-limited-build    3030      35    koraidon   \n",
              "1288  koraidon-sprinting-build    3030      35    koraidon   \n",
              "1289   koraidon-swimming-build    3030      35    koraidon   \n",
              "1290    koraidon-gliding-build    3030      35    koraidon   \n",
              "\n",
              "                                                  moves             types  \\\n",
              "0     swords-dance, cut, bind, vine-whip, headbutt, ...     grass, poison   \n",
              "1     swords-dance, cut, bind, vine-whip, headbutt, ...     grass, poison   \n",
              "2     mega-punch, fire-punch, thunder-punch, scratch...              fire   \n",
              "3     mega-punch, fire-punch, thunder-punch, scratch...              fire   \n",
              "4     mega-punch, fire-punch, thunder-punch, scratch...      fire, flying   \n",
              "...                                                 ...               ...   \n",
              "1286  tackle, take-down, night-shade, confuse-ray, l...             ghost   \n",
              "1287  swords-dance, body-slam, take-down, roar, flam...  fighting, dragon   \n",
              "1288  swords-dance, body-slam, take-down, roar, flam...  fighting, dragon   \n",
              "1289  swords-dance, body-slam, take-down, roar, flam...  fighting, dragon   \n",
              "1290  swords-dance, body-slam, take-down, roar, flam...  fighting, dragon   \n",
              "\n",
              "                               abilities   hp  attack  defense  \\\n",
              "0                  overgrow, chlorophyll   60      62       63   \n",
              "1                  overgrow, chlorophyll   80      82       83   \n",
              "2                     blaze, solar-power   39      52       43   \n",
              "3                     blaze, solar-power   58      64       58   \n",
              "4                     blaze, solar-power   78      84       78   \n",
              "...                                  ...  ...     ...      ...   \n",
              "1286                  run-away, run-away   45      30       25   \n",
              "1287  orichalcum-pulse, orichalcum-pulse  100     135      115   \n",
              "1288  orichalcum-pulse, orichalcum-pulse  100     135      115   \n",
              "1289  orichalcum-pulse, orichalcum-pulse  100     135      115   \n",
              "1290  orichalcum-pulse, orichalcum-pulse  100     135      115   \n",
              "\n",
              "      special-attack  special-defense  speed  \n",
              "0                 80               80     60  \n",
              "1                100              100     80  \n",
              "2                 60               50     65  \n",
              "3                 80               65     80  \n",
              "4                109               85    100  \n",
              "...              ...              ...    ...  \n",
              "1286              75               45     80  \n",
              "1287              85              100    135  \n",
              "1288              85              100    135  \n",
              "1289              85              100    135  \n",
              "1290              85              100    135  \n",
              "\n",
              "[1291 rows x 13 columns]"
            ],
            "text/html": [
              "\n",
              "  <div id=\"df-03f12431-c8fe-4cc7-86f9-93d2c98d1c63\" class=\"colab-df-container\">\n",
              "    <div>\n",
              "<style scoped>\n",
              "    .dataframe tbody tr th:only-of-type {\n",
              "        vertical-align: middle;\n",
              "    }\n",
              "\n",
              "    .dataframe tbody tr th {\n",
              "        vertical-align: top;\n",
              "    }\n",
              "\n",
              "    .dataframe thead th {\n",
              "        text-align: right;\n",
              "    }\n",
              "</style>\n",
              "<table border=\"1\" class=\"dataframe\">\n",
              "  <thead>\n",
              "    <tr style=\"text-align: right;\">\n",
              "      <th></th>\n",
              "      <th>name</th>\n",
              "      <th>weight</th>\n",
              "      <th>height</th>\n",
              "      <th>species</th>\n",
              "      <th>moves</th>\n",
              "      <th>types</th>\n",
              "      <th>abilities</th>\n",
              "      <th>hp</th>\n",
              "      <th>attack</th>\n",
              "      <th>defense</th>\n",
              "      <th>special-attack</th>\n",
              "      <th>special-defense</th>\n",
              "      <th>speed</th>\n",
              "    </tr>\n",
              "  </thead>\n",
              "  <tbody>\n",
              "    <tr>\n",
              "      <th>0</th>\n",
              "      <td>ivysaur</td>\n",
              "      <td>130</td>\n",
              "      <td>10</td>\n",
              "      <td>ivysaur</td>\n",
              "      <td>swords-dance, cut, bind, vine-whip, headbutt, ...</td>\n",
              "      <td>grass, poison</td>\n",
              "      <td>overgrow, chlorophyll</td>\n",
              "      <td>60</td>\n",
              "      <td>62</td>\n",
              "      <td>63</td>\n",
              "      <td>80</td>\n",
              "      <td>80</td>\n",
              "      <td>60</td>\n",
              "    </tr>\n",
              "    <tr>\n",
              "      <th>1</th>\n",
              "      <td>venusaur</td>\n",
              "      <td>1000</td>\n",
              "      <td>20</td>\n",
              "      <td>venusaur</td>\n",
              "      <td>swords-dance, cut, bind, vine-whip, headbutt, ...</td>\n",
              "      <td>grass, poison</td>\n",
              "      <td>overgrow, chlorophyll</td>\n",
              "      <td>80</td>\n",
              "      <td>82</td>\n",
              "      <td>83</td>\n",
              "      <td>100</td>\n",
              "      <td>100</td>\n",
              "      <td>80</td>\n",
              "    </tr>\n",
              "    <tr>\n",
              "      <th>2</th>\n",
              "      <td>charmander</td>\n",
              "      <td>85</td>\n",
              "      <td>6</td>\n",
              "      <td>charmander</td>\n",
              "      <td>mega-punch, fire-punch, thunder-punch, scratch...</td>\n",
              "      <td>fire</td>\n",
              "      <td>blaze, solar-power</td>\n",
              "      <td>39</td>\n",
              "      <td>52</td>\n",
              "      <td>43</td>\n",
              "      <td>60</td>\n",
              "      <td>50</td>\n",
              "      <td>65</td>\n",
              "    </tr>\n",
              "    <tr>\n",
              "      <th>3</th>\n",
              "      <td>charmeleon</td>\n",
              "      <td>190</td>\n",
              "      <td>11</td>\n",
              "      <td>charmeleon</td>\n",
              "      <td>mega-punch, fire-punch, thunder-punch, scratch...</td>\n",
              "      <td>fire</td>\n",
              "      <td>blaze, solar-power</td>\n",
              "      <td>58</td>\n",
              "      <td>64</td>\n",
              "      <td>58</td>\n",
              "      <td>80</td>\n",
              "      <td>65</td>\n",
              "      <td>80</td>\n",
              "    </tr>\n",
              "    <tr>\n",
              "      <th>4</th>\n",
              "      <td>charizard</td>\n",
              "      <td>905</td>\n",
              "      <td>17</td>\n",
              "      <td>charizard</td>\n",
              "      <td>mega-punch, fire-punch, thunder-punch, scratch...</td>\n",
              "      <td>fire, flying</td>\n",
              "      <td>blaze, solar-power</td>\n",
              "      <td>78</td>\n",
              "      <td>84</td>\n",
              "      <td>78</td>\n",
              "      <td>109</td>\n",
              "      <td>85</td>\n",
              "      <td>100</td>\n",
              "    </tr>\n",
              "    <tr>\n",
              "      <th>...</th>\n",
              "      <td>...</td>\n",
              "      <td>...</td>\n",
              "      <td>...</td>\n",
              "      <td>...</td>\n",
              "      <td>...</td>\n",
              "      <td>...</td>\n",
              "      <td>...</td>\n",
              "      <td>...</td>\n",
              "      <td>...</td>\n",
              "      <td>...</td>\n",
              "      <td>...</td>\n",
              "      <td>...</td>\n",
              "      <td>...</td>\n",
              "    </tr>\n",
              "    <tr>\n",
              "      <th>1286</th>\n",
              "      <td>gimmighoul-roaming</td>\n",
              "      <td>10</td>\n",
              "      <td>1</td>\n",
              "      <td>gimmighoul</td>\n",
              "      <td>tackle, take-down, night-shade, confuse-ray, l...</td>\n",
              "      <td>ghost</td>\n",
              "      <td>run-away, run-away</td>\n",
              "      <td>45</td>\n",
              "      <td>30</td>\n",
              "      <td>25</td>\n",
              "      <td>75</td>\n",
              "      <td>45</td>\n",
              "      <td>80</td>\n",
              "    </tr>\n",
              "    <tr>\n",
              "      <th>1287</th>\n",
              "      <td>koraidon-limited-build</td>\n",
              "      <td>3030</td>\n",
              "      <td>35</td>\n",
              "      <td>koraidon</td>\n",
              "      <td>swords-dance, body-slam, take-down, roar, flam...</td>\n",
              "      <td>fighting, dragon</td>\n",
              "      <td>orichalcum-pulse, orichalcum-pulse</td>\n",
              "      <td>100</td>\n",
              "      <td>135</td>\n",
              "      <td>115</td>\n",
              "      <td>85</td>\n",
              "      <td>100</td>\n",
              "      <td>135</td>\n",
              "    </tr>\n",
              "    <tr>\n",
              "      <th>1288</th>\n",
              "      <td>koraidon-sprinting-build</td>\n",
              "      <td>3030</td>\n",
              "      <td>35</td>\n",
              "      <td>koraidon</td>\n",
              "      <td>swords-dance, body-slam, take-down, roar, flam...</td>\n",
              "      <td>fighting, dragon</td>\n",
              "      <td>orichalcum-pulse, orichalcum-pulse</td>\n",
              "      <td>100</td>\n",
              "      <td>135</td>\n",
              "      <td>115</td>\n",
              "      <td>85</td>\n",
              "      <td>100</td>\n",
              "      <td>135</td>\n",
              "    </tr>\n",
              "    <tr>\n",
              "      <th>1289</th>\n",
              "      <td>koraidon-swimming-build</td>\n",
              "      <td>3030</td>\n",
              "      <td>35</td>\n",
              "      <td>koraidon</td>\n",
              "      <td>swords-dance, body-slam, take-down, roar, flam...</td>\n",
              "      <td>fighting, dragon</td>\n",
              "      <td>orichalcum-pulse, orichalcum-pulse</td>\n",
              "      <td>100</td>\n",
              "      <td>135</td>\n",
              "      <td>115</td>\n",
              "      <td>85</td>\n",
              "      <td>100</td>\n",
              "      <td>135</td>\n",
              "    </tr>\n",
              "    <tr>\n",
              "      <th>1290</th>\n",
              "      <td>koraidon-gliding-build</td>\n",
              "      <td>3030</td>\n",
              "      <td>35</td>\n",
              "      <td>koraidon</td>\n",
              "      <td>swords-dance, body-slam, take-down, roar, flam...</td>\n",
              "      <td>fighting, dragon</td>\n",
              "      <td>orichalcum-pulse, orichalcum-pulse</td>\n",
              "      <td>100</td>\n",
              "      <td>135</td>\n",
              "      <td>115</td>\n",
              "      <td>85</td>\n",
              "      <td>100</td>\n",
              "      <td>135</td>\n",
              "    </tr>\n",
              "  </tbody>\n",
              "</table>\n",
              "<p>1291 rows × 13 columns</p>\n",
              "</div>\n",
              "    <div class=\"colab-df-buttons\">\n",
              "\n",
              "  <div class=\"colab-df-container\">\n",
              "    <button class=\"colab-df-convert\" onclick=\"convertToInteractive('df-03f12431-c8fe-4cc7-86f9-93d2c98d1c63')\"\n",
              "            title=\"Convert this dataframe to an interactive table.\"\n",
              "            style=\"display:none;\">\n",
              "\n",
              "  <svg xmlns=\"http://www.w3.org/2000/svg\" height=\"24px\" viewBox=\"0 -960 960 960\">\n",
              "    <path d=\"M120-120v-720h720v720H120Zm60-500h600v-160H180v160Zm220 220h160v-160H400v160Zm0 220h160v-160H400v160ZM180-400h160v-160H180v160Zm440 0h160v-160H620v160ZM180-180h160v-160H180v160Zm440 0h160v-160H620v160Z\"/>\n",
              "  </svg>\n",
              "    </button>\n",
              "\n",
              "  <style>\n",
              "    .colab-df-container {\n",
              "      display:flex;\n",
              "      gap: 12px;\n",
              "    }\n",
              "\n",
              "    .colab-df-convert {\n",
              "      background-color: #E8F0FE;\n",
              "      border: none;\n",
              "      border-radius: 50%;\n",
              "      cursor: pointer;\n",
              "      display: none;\n",
              "      fill: #1967D2;\n",
              "      height: 32px;\n",
              "      padding: 0 0 0 0;\n",
              "      width: 32px;\n",
              "    }\n",
              "\n",
              "    .colab-df-convert:hover {\n",
              "      background-color: #E2EBFA;\n",
              "      box-shadow: 0px 1px 2px rgba(60, 64, 67, 0.3), 0px 1px 3px 1px rgba(60, 64, 67, 0.15);\n",
              "      fill: #174EA6;\n",
              "    }\n",
              "\n",
              "    .colab-df-buttons div {\n",
              "      margin-bottom: 4px;\n",
              "    }\n",
              "\n",
              "    [theme=dark] .colab-df-convert {\n",
              "      background-color: #3B4455;\n",
              "      fill: #D2E3FC;\n",
              "    }\n",
              "\n",
              "    [theme=dark] .colab-df-convert:hover {\n",
              "      background-color: #434B5C;\n",
              "      box-shadow: 0px 1px 3px 1px rgba(0, 0, 0, 0.15);\n",
              "      filter: drop-shadow(0px 1px 2px rgba(0, 0, 0, 0.3));\n",
              "      fill: #FFFFFF;\n",
              "    }\n",
              "  </style>\n",
              "\n",
              "    <script>\n",
              "      const buttonEl =\n",
              "        document.querySelector('#df-03f12431-c8fe-4cc7-86f9-93d2c98d1c63 button.colab-df-convert');\n",
              "      buttonEl.style.display =\n",
              "        google.colab.kernel.accessAllowed ? 'block' : 'none';\n",
              "\n",
              "      async function convertToInteractive(key) {\n",
              "        const element = document.querySelector('#df-03f12431-c8fe-4cc7-86f9-93d2c98d1c63');\n",
              "        const dataTable =\n",
              "          await google.colab.kernel.invokeFunction('convertToInteractive',\n",
              "                                                    [key], {});\n",
              "        if (!dataTable) return;\n",
              "\n",
              "        const docLinkHtml = 'Like what you see? Visit the ' +\n",
              "          '<a target=\"_blank\" href=https://colab.research.google.com/notebooks/data_table.ipynb>data table notebook</a>'\n",
              "          + ' to learn more about interactive tables.';\n",
              "        element.innerHTML = '';\n",
              "        dataTable['output_type'] = 'display_data';\n",
              "        await google.colab.output.renderOutput(dataTable, element);\n",
              "        const docLink = document.createElement('div');\n",
              "        docLink.innerHTML = docLinkHtml;\n",
              "        element.appendChild(docLink);\n",
              "      }\n",
              "    </script>\n",
              "  </div>\n",
              "\n",
              "\n",
              "<div id=\"df-52f05334-f470-4db8-91b0-3a3cb66ade79\">\n",
              "  <button class=\"colab-df-quickchart\" onclick=\"quickchart('df-52f05334-f470-4db8-91b0-3a3cb66ade79')\"\n",
              "            title=\"Suggest charts\"\n",
              "            style=\"display:none;\">\n",
              "\n",
              "<svg xmlns=\"http://www.w3.org/2000/svg\" height=\"24px\"viewBox=\"0 0 24 24\"\n",
              "     width=\"24px\">\n",
              "    <g>\n",
              "        <path d=\"M19 3H5c-1.1 0-2 .9-2 2v14c0 1.1.9 2 2 2h14c1.1 0 2-.9 2-2V5c0-1.1-.9-2-2-2zM9 17H7v-7h2v7zm4 0h-2V7h2v10zm4 0h-2v-4h2v4z\"/>\n",
              "    </g>\n",
              "</svg>\n",
              "  </button>\n",
              "\n",
              "<style>\n",
              "  .colab-df-quickchart {\n",
              "      --bg-color: #E8F0FE;\n",
              "      --fill-color: #1967D2;\n",
              "      --hover-bg-color: #E2EBFA;\n",
              "      --hover-fill-color: #174EA6;\n",
              "      --disabled-fill-color: #AAA;\n",
              "      --disabled-bg-color: #DDD;\n",
              "  }\n",
              "\n",
              "  [theme=dark] .colab-df-quickchart {\n",
              "      --bg-color: #3B4455;\n",
              "      --fill-color: #D2E3FC;\n",
              "      --hover-bg-color: #434B5C;\n",
              "      --hover-fill-color: #FFFFFF;\n",
              "      --disabled-bg-color: #3B4455;\n",
              "      --disabled-fill-color: #666;\n",
              "  }\n",
              "\n",
              "  .colab-df-quickchart {\n",
              "    background-color: var(--bg-color);\n",
              "    border: none;\n",
              "    border-radius: 50%;\n",
              "    cursor: pointer;\n",
              "    display: none;\n",
              "    fill: var(--fill-color);\n",
              "    height: 32px;\n",
              "    padding: 0;\n",
              "    width: 32px;\n",
              "  }\n",
              "\n",
              "  .colab-df-quickchart:hover {\n",
              "    background-color: var(--hover-bg-color);\n",
              "    box-shadow: 0 1px 2px rgba(60, 64, 67, 0.3), 0 1px 3px 1px rgba(60, 64, 67, 0.15);\n",
              "    fill: var(--button-hover-fill-color);\n",
              "  }\n",
              "\n",
              "  .colab-df-quickchart-complete:disabled,\n",
              "  .colab-df-quickchart-complete:disabled:hover {\n",
              "    background-color: var(--disabled-bg-color);\n",
              "    fill: var(--disabled-fill-color);\n",
              "    box-shadow: none;\n",
              "  }\n",
              "\n",
              "  .colab-df-spinner {\n",
              "    border: 2px solid var(--fill-color);\n",
              "    border-color: transparent;\n",
              "    border-bottom-color: var(--fill-color);\n",
              "    animation:\n",
              "      spin 1s steps(1) infinite;\n",
              "  }\n",
              "\n",
              "  @keyframes spin {\n",
              "    0% {\n",
              "      border-color: transparent;\n",
              "      border-bottom-color: var(--fill-color);\n",
              "      border-left-color: var(--fill-color);\n",
              "    }\n",
              "    20% {\n",
              "      border-color: transparent;\n",
              "      border-left-color: var(--fill-color);\n",
              "      border-top-color: var(--fill-color);\n",
              "    }\n",
              "    30% {\n",
              "      border-color: transparent;\n",
              "      border-left-color: var(--fill-color);\n",
              "      border-top-color: var(--fill-color);\n",
              "      border-right-color: var(--fill-color);\n",
              "    }\n",
              "    40% {\n",
              "      border-color: transparent;\n",
              "      border-right-color: var(--fill-color);\n",
              "      border-top-color: var(--fill-color);\n",
              "    }\n",
              "    60% {\n",
              "      border-color: transparent;\n",
              "      border-right-color: var(--fill-color);\n",
              "    }\n",
              "    80% {\n",
              "      border-color: transparent;\n",
              "      border-right-color: var(--fill-color);\n",
              "      border-bottom-color: var(--fill-color);\n",
              "    }\n",
              "    90% {\n",
              "      border-color: transparent;\n",
              "      border-bottom-color: var(--fill-color);\n",
              "    }\n",
              "  }\n",
              "</style>\n",
              "\n",
              "  <script>\n",
              "    async function quickchart(key) {\n",
              "      const quickchartButtonEl =\n",
              "        document.querySelector('#' + key + ' button');\n",
              "      quickchartButtonEl.disabled = true;  // To prevent multiple clicks.\n",
              "      quickchartButtonEl.classList.add('colab-df-spinner');\n",
              "      try {\n",
              "        const charts = await google.colab.kernel.invokeFunction(\n",
              "            'suggestCharts', [key], {});\n",
              "      } catch (error) {\n",
              "        console.error('Error during call to suggestCharts:', error);\n",
              "      }\n",
              "      quickchartButtonEl.classList.remove('colab-df-spinner');\n",
              "      quickchartButtonEl.classList.add('colab-df-quickchart-complete');\n",
              "    }\n",
              "    (() => {\n",
              "      let quickchartButtonEl =\n",
              "        document.querySelector('#df-52f05334-f470-4db8-91b0-3a3cb66ade79 button');\n",
              "      quickchartButtonEl.style.display =\n",
              "        google.colab.kernel.accessAllowed ? 'block' : 'none';\n",
              "    })();\n",
              "  </script>\n",
              "</div>\n",
              "    </div>\n",
              "  </div>\n"
            ]
          },
          "metadata": {},
          "execution_count": 23
        }
      ]
    },
    {
      "cell_type": "code",
      "source": [
        "# converting into csv\n",
        "pokemondf.to_csv(\"PokemonDictionary.csv\")"
      ],
      "metadata": {
        "id": "HVPdvVhInnGj"
      },
      "execution_count": null,
      "outputs": []
    }
  ]
}